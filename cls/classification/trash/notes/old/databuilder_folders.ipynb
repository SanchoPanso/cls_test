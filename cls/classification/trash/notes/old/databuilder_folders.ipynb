{
 "cells": [
  {
   "cell_type": "code",
   "execution_count": 11,
   "metadata": {},
   "outputs": [
    {
     "name": "stderr",
     "output_type": "stream",
     "text": [
      "Global seed set to 345\n"
     ]
    }
   ],
   "source": [
    "from lightning_fabric.utilities.seed import seed_everything\n",
    "\n",
    "seed_everything(345)\n",
    "import pandas as pd\n",
    "from os.path import join, abspath\n",
    "from os import makedirs\n",
    "import sys\n",
    "\n",
    "sys.path.append(\"/home/timssh/ML/TAGGING/CLS/classification/scripts\")\n",
    "from utils import build_train_noise, json_builder\n"
   ]
  },
  {
   "attachments": {},
   "cell_type": "markdown",
   "metadata": {},
   "source": [
    "# Build json Dataset for training"
   ]
  },
  {
   "cell_type": "code",
   "execution_count": 8,
   "metadata": {},
   "outputs": [],
   "source": [
    "CATEGORY = \"body_decoration_tatto\"\n",
    "# CATEGORY = \"sex_positions\"\n",
    "\n",
    "\n",
    "ROOT = abspath(\"../../..\")\n",
    "PATH = join(ROOT, \"data/data_folders\")\n",
    "SOURCE = join(ROOT, \"source/source_old\")\n",
    "TEST_SIZE = 0.1\n",
    "\n",
    "makedirs(join(SOURCE, CATEGORY), exist_ok=True)\n"
   ]
  },
  {
   "cell_type": "code",
   "execution_count": 9,
   "metadata": {},
   "outputs": [
    {
     "name": "stdout",
     "output_type": "stream",
     "text": [
      "body_decoration_tatto\n",
      "noise : 1659\n"
     ]
    },
    {
     "data": {
      "text/plain": [
       "<Axes: >"
      ]
     },
     "execution_count": 9,
     "metadata": {},
     "output_type": "execute_result"
    },
    {
     "data": {
      "image/png": "[encoded data removed]",
      "text/plain": [
       "<Figure size 640x480 with 1 Axes>"
      ]
     },
     "metadata": {},
     "output_type": "display_data"
    }
   ],
   "source": [
    "train, noise = build_train_noise(PATH, CATEGORY)\n",
    "json_builder(train, noise, CATEGORY, SOURCE)\n",
    "print(\"noise :\", len(noise))\n",
    "train[\"label\"].hist(bins=15)\n"
   ]
  },
  {
   "attachments": {},
   "cell_type": "markdown",
   "metadata": {},
   "source": [
    "# Download json result"
   ]
  },
  {
   "cell_type": "code",
   "execution_count": 12,
   "metadata": {},
   "outputs": [
    {
     "name": "stdout",
     "output_type": "stream",
     "text": [
      "{'0': 'tattoo'} [1.0]\n"
     ]
    },
    {
     "data": {
      "text/html": [
       "<div>\n",
       "<style scoped>\n",
       "    .dataframe tbody tr th:only-of-type {\n",
       "        vertical-align: middle;\n",
       "    }\n",
       "\n",
       "    .dataframe tbody tr th {\n",
       "        vertical-align: top;\n",
       "    }\n",
       "\n",
       "    .dataframe thead th {\n",
       "        text-align: right;\n",
       "    }\n",
       "</style>\n",
       "<table border=\"1\" class=\"dataframe\">\n",
       "  <thead>\n",
       "    <tr style=\"text-align: right;\">\n",
       "      <th></th>\n",
       "      <th>path</th>\n",
       "      <th>tattoo</th>\n",
       "    </tr>\n",
       "  </thead>\n",
       "  <tbody>\n",
       "    <tr>\n",
       "      <th>0</th>\n",
       "      <td>/home/timssh/ML/TAGGING/data/data_folders/body...</td>\n",
       "      <td>0</td>\n",
       "    </tr>\n",
       "    <tr>\n",
       "      <th>1</th>\n",
       "      <td>/home/timssh/ML/TAGGING/data/data_folders/body...</td>\n",
       "      <td>1</td>\n",
       "    </tr>\n",
       "    <tr>\n",
       "      <th>2</th>\n",
       "      <td>/home/timssh/ML/TAGGING/data/data_folders/tras...</td>\n",
       "      <td>0</td>\n",
       "    </tr>\n",
       "    <tr>\n",
       "      <th>3</th>\n",
       "      <td>/home/timssh/ML/TAGGING/data/data_folders/body...</td>\n",
       "      <td>0</td>\n",
       "    </tr>\n",
       "    <tr>\n",
       "      <th>4</th>\n",
       "      <td>/home/timssh/ML/TAGGING/data/data_folders/body...</td>\n",
       "      <td>1</td>\n",
       "    </tr>\n",
       "    <tr>\n",
       "      <th>...</th>\n",
       "      <td>...</td>\n",
       "      <td>...</td>\n",
       "    </tr>\n",
       "    <tr>\n",
       "      <th>5818</th>\n",
       "      <td>/home/timssh/ML/TAGGING/data/data_folders/body...</td>\n",
       "      <td>1</td>\n",
       "    </tr>\n",
       "    <tr>\n",
       "      <th>5819</th>\n",
       "      <td>/home/timssh/ML/TAGGING/data/data_folders/body...</td>\n",
       "      <td>1</td>\n",
       "    </tr>\n",
       "    <tr>\n",
       "      <th>5820</th>\n",
       "      <td>/home/timssh/ML/TAGGING/data/data_folders/tras...</td>\n",
       "      <td>0</td>\n",
       "    </tr>\n",
       "    <tr>\n",
       "      <th>5821</th>\n",
       "      <td>/home/timssh/ML/TAGGING/data/data_folders/tras...</td>\n",
       "      <td>0</td>\n",
       "    </tr>\n",
       "    <tr>\n",
       "      <th>5822</th>\n",
       "      <td>/home/timssh/ML/TAGGING/data/data_folders/body...</td>\n",
       "      <td>0</td>\n",
       "    </tr>\n",
       "  </tbody>\n",
       "</table>\n",
       "<p>5823 rows × 2 columns</p>\n",
       "</div>"
      ],
      "text/plain": [
       "                                                   path  tattoo\n",
       "0     /home/timssh/ML/TAGGING/data/data_folders/body...       0\n",
       "1     /home/timssh/ML/TAGGING/data/data_folders/body...       1\n",
       "2     /home/timssh/ML/TAGGING/data/data_folders/tras...       0\n",
       "3     /home/timssh/ML/TAGGING/data/data_folders/body...       0\n",
       "4     /home/timssh/ML/TAGGING/data/data_folders/body...       1\n",
       "...                                                 ...     ...\n",
       "5818  /home/timssh/ML/TAGGING/data/data_folders/body...       1\n",
       "5819  /home/timssh/ML/TAGGING/data/data_folders/body...       1\n",
       "5820  /home/timssh/ML/TAGGING/data/data_folders/tras...       0\n",
       "5821  /home/timssh/ML/TAGGING/data/data_folders/tras...       0\n",
       "5822  /home/timssh/ML/TAGGING/data/data_folders/body...       0\n",
       "\n",
       "[5823 rows x 2 columns]"
      ]
     },
     "execution_count": 12,
     "metadata": {},
     "output_type": "execute_result"
    }
   ],
   "source": [
    "import json\n",
    "\n",
    "with open(SOURCE + f\"/{CATEGORY}/{CATEGORY}.json\") as json_file:\n",
    "    json_ = json.load(json_file)\n",
    "\n",
    "data = pd.read_json(json_[\"train\"])\n",
    "print(json_[\"num2label\"], json_[\"weights\"])\n",
    "data\n"
   ]
  }
 ],
 "metadata": {
  "kernelspec": {
   "display_name": "tagging",
   "language": "python",
   "name": "python3"
  },
  "language_info": {
   "codemirror_mode": {
    "name": "ipython",
    "version": 3
   },
   "file_extension": ".py",
   "mimetype": "text/x-python",
   "name": "python",
   "nbconvert_exporter": "python",
   "pygments_lexer": "ipython3",
   "version": "3.10.11"
  },
  "orig_nbformat": 4,
  "vscode": {
   "interpreter": {
    "hash": "9bb0251d380389dab4df3f393f08ab854945ede89ed8756719315a76fdf8cf9c"
   }
  }
 },
 "nbformat": 4,
 "nbformat_minor": 2
}
