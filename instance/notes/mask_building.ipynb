{
 "cells": [
  {
   "cell_type": "code",
   "execution_count": 43,
   "metadata": {},
   "outputs": [],
   "source": [
    "from PIL import Image\n",
    "from ultralytics import YOLO\n",
    "import os\n",
    "from torchvision.transforms import transforms as T\n",
    "import kornia as K\n",
    "\n",
    "PATH = \"/home/timssh/ML/TAGGING/CLS/instance/runs/segment/train7/weights/best.pt\"\n",
    "model = YOLO(PATH)\n",
    "\n",
    "mask_path = '/home/timssh/ML/TAGGING/DATA/masks'\n",
    "image_path = '/home/timssh/ML/TAGGING/DATA/picture'\n",
    "pic_list = os.listdir(image_path)\n",
    "\n",
    "for pic in pic_list:\n",
    "    image = Image.open(os.path.join(image_path, pic)).convert('RGB')\n",
    "    img = T.ToTensor()(image)\n",
    "    if img.size()[1] < img.size()[2]:                    \n",
    "        img = K.augmentation.LongestMaxSize(640)(img)\n",
    "    else:\n",
    "        img = K.augmentation.LongestMaxSize(480)(img)\n",
    "    img = K.augmentation.PadTo((480, 640), keepdim=True)(img.squeeze(0))\n",
    "    res = model.predict(T.ToPILImage()(img))\n",
    "    for result in res:\n",
    "        if len(result.boxes) == 0:\n",
    "            T.ToPILImage()(img).save(os.path.join(mask_path, pic))\n",
    "            continue\n",
    "        for mask, bbox in zip(result.masks, result.boxes):\n",
    "            if int(bbox.cls) < 0.5:\n",
    "                mask_img = K.augmentation.PadTo((480, 640), keepdim=True)(\n",
    "                    img[:]\n",
    "                    * mask[:].data.to(\"cpu\")\n",
    "                )\n",
    "            T.ToPILImage()(mask_img).save(os.path.join(mask_path, pic))\n",
    "            break"
   ]
  }
 ],
 "metadata": {
  "kernelspec": {
   "display_name": "tagging",
   "language": "python",
   "name": "python3"
  },
  "language_info": {
   "codemirror_mode": {
    "name": "ipython",
    "version": 3
   },
   "file_extension": ".py",
   "mimetype": "text/x-python",
   "name": "python",
   "nbconvert_exporter": "python",
   "pygments_lexer": "ipython3",
   "version": "3.10.11"
  },
  "orig_nbformat": 4
 },
 "nbformat": 4,
 "nbformat_minor": 2
}
