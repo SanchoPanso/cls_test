{
 "cells": [
  {
   "cell_type": "code",
   "execution_count": null,
   "metadata": {},
   "outputs": [],
   "source": [
    "from roboflow import Roboflow\n",
    "\n",
    "rf = Roboflow(api_key=\"2jcEaq6fxXyJWkOQ0xxE\")\n",
    "project = rf.workspace(\"rich-quick-media-sro-7uetb\").project(\"dataset-e7spa\")\n",
    "dataset = project.version(3).download(\"yolov8\", location='./data')\n"
   ]
  },
  {
   "cell_type": "code",
   "execution_count": 1,
   "metadata": {},
   "outputs": [],
   "source": [
    "# from JSON2YOLO.general_json2yolo import convert_coco_json\n",
    "# if __name__ == '__main__':\n",
    "#     source = 'COCO'\n",
    "\n",
    "#     if source == 'COCO':\n",
    "#         convert_coco_json('/home/timssh/ML/TAGGING/CLS/instance/data_coco/train/instances_default.json',  # directory with *.json\n",
    "#                           use_segments=True,\n",
    "#                           cls91to80=False)"
   ]
  }
 ],
 "metadata": {
  "kernelspec": {
   "display_name": "tagging",
   "language": "python",
   "name": "python3"
  },
  "language_info": {
   "codemirror_mode": {
    "name": "ipython",
    "version": 3
   },
   "file_extension": ".py",
   "mimetype": "text/x-python",
   "name": "python",
   "nbconvert_exporter": "python",
   "pygments_lexer": "ipython3",
   "version": "3.10.11"
  },
  "orig_nbformat": 4
 },
 "nbformat": 4,
 "nbformat_minor": 2
}
