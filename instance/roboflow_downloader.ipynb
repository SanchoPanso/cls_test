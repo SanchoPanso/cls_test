{
 "cells": [
  {
   "cell_type": "code",
   "execution_count": 2,
   "metadata": {},
   "outputs": [
    {
     "name": "stdout",
     "output_type": "stream",
     "text": [
      "loading Roboflow workspace...\n",
      "loading Roboflow project...\n",
      "Dependency ultralytics<=8.0.20 is required but found version=8.0.140, to fix: `pip install ultralytics<=8.0.20`\n",
      "Exporting format yolov8 in progress : 49.0%\n",
      "Version export complete for yolov8 format\n",
      "Downloading Dataset Version Zip in data to yolov8: 100% [1082211401 / 1082211401] bytes\n"
     ]
    },
    {
     "name": "stderr",
     "output_type": "stream",
     "text": [
      "Extracting Dataset Version Zip to data in yolov8:: 100%|██████████| 23528/23528 [00:01<00:00, 21002.89it/s]\n"
     ]
    }
   ],
   "source": [
    "from roboflow import Roboflow\n",
    "rf = Roboflow(api_key=\"2jcEaq6fxXyJWkOQ0xxE\")\n",
    "project = rf.workspace(\"rich-quick-media-sro-7uetb\").project(\"dataset-e7spa\")\n",
    "dataset = project.version(9).download(\"yolov8\", location='data')"
   ]
  },
  {
   "cell_type": "code",
   "execution_count": 1,
   "metadata": {},
   "outputs": [],
   "source": [
    "# from JSON2YOLO.general_json2yolo import convert_coco_json\n",
    "# if __name__ == '__main__':\n",
    "#     source = 'COCO'\n",
    "\n",
    "#     if source == 'COCO':\n",
    "#         convert_coco_json('/home/timssh/ML/TAGGING/CLS/instance/data_coco/train/instances_default.json',  # directory with *.json\n",
    "#                           use_segments=True,\n",
    "#                           cls91to80=False)"
   ]
  },
  {
   "cell_type": "code",
   "execution_count": null,
   "metadata": {},
   "outputs": [],
   "source": []
  }
 ],
 "metadata": {
  "kernelspec": {
   "display_name": "tagging",
   "language": "python",
   "name": "python3"
  },
  "language_info": {
   "codemirror_mode": {
    "name": "ipython",
    "version": 3
   },
   "file_extension": ".py",
   "mimetype": "text/x-python",
   "name": "python",
   "nbconvert_exporter": "python",
   "pygments_lexer": "ipython3",
   "version": "3.10.11"
  },
  "orig_nbformat": 4
 },
 "nbformat": 4,
 "nbformat_minor": 2
}
