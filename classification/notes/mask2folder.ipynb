{
 "cells": [
  {
   "cell_type": "code",
   "execution_count": 1,
   "metadata": {},
   "outputs": [],
   "source": [
    "import sys\n",
    "import os\n",
    "import shutil \n",
    "from os.path import join\n",
    "\n",
    "sys.path.append(\"/home/timssh/ML/TAGGING/CLS\")\n",
    "# os.environ[\"CUDA_VISIBLE_DEVICES\"] = \"1\"\n",
    "from classification.train.model import InferDataset\n",
    "from torch.utils.data import DataLoader\n",
    "from classification.train.augmentation import PreProcess, DataAugmentation\n",
    "import torch\n",
    "from pathlib import Path"
   ]
  },
  {
   "cell_type": "code",
   "execution_count": 2,
   "metadata": {},
   "outputs": [],
   "source": [
    "GROUP = \"tits_size\"\n",
    "MODEL_ROOT = \"/home/timssh/ML/TAGGING/DATA/models\"\n",
    "\n",
    "folder_ret = '/home/timssh/ML/TAGGING/GROP_AGR/tits_size'"
   ]
  },
  {
   "cell_type": "code",
   "execution_count": 3,
   "metadata": {},
   "outputs": [
    {
     "name": "stdout",
     "output_type": "stream",
     "text": [
      "{'0': 'big tits', '1': 'flat chested', '2': 'huge tits', '3': 'small tits'}\n"
     ]
    }
   ],
   "source": [
    "Aug = DataAugmentation().eval()\n",
    "Pre = PreProcess(gray=False, vflip=False, arch=\"eff\")\n",
    "# Load with extra files.\n",
    "extra_files = {\"num2label.txt\": \"\"}  # values will be replaced with data\n",
    "model = torch.jit.load(\n",
    "    f\"{MODEL_ROOT}/{GROUP}/v__2_all_eff_36_0.001/checkpoints/epoch=59-step=38280.pt\",\n",
    "    \"cuda\",\n",
    "    _extra_files=extra_files,\n",
    ")\n",
    "model.eval()\n",
    "model.to(torch.float16)\n",
    "num2label = eval(extra_files[\"num2label.txt\"])\n",
    "print(num2label)"
   ]
  },
  {
   "cell_type": "code",
   "execution_count": 4,
   "metadata": {},
   "outputs": [],
   "source": [
    "for key, value in num2label.items():\n",
    "    Path(join(folder_ret, value)).mkdir(parents=True, exist_ok=True)\n",
    "Path(join(folder_ret, 'trash')).mkdir(parents=True, exist_ok=True)"
   ]
  },
  {
   "cell_type": "code",
   "execution_count": 5,
   "metadata": {},
   "outputs": [],
   "source": [
    "masks = \"/home/timssh/ML/TAGGING/DATA/segmentation/picture\"\n",
    "list_of_pics = [join(masks, path) for path in os.listdir(masks)]\n",
    "dict_of_pics = {mask.split('.')[0] : mask for mask in os.listdir(masks)}\n",
    "infer = InferDataset(sorted(list_of_pics), Pre)\n",
    "samplt = infer[0]\n",
    "loader = DataLoader(infer, 32, num_workers=32, pin_memory=True, shuffle=False)"
   ]
  },
  {
   "cell_type": "code",
   "execution_count": 6,
   "metadata": {},
   "outputs": [],
   "source": [
    "for batch in loader:\n",
    "    with torch.no_grad():\n",
    "        ret_ = torch.round(\n",
    "            torch.sigmoid(model(Aug(batch[0].to(\"cuda\")))), decimals=2\n",
    "        )\n",
    "        ret_ = ret_.to(\"cpu\")\n",
    "        val, idx = ret_.max(axis=1)\n",
    "        # print(val, idx)\n",
    "        for num, id_ in enumerate(batch[1]):\n",
    "            if val[num] > 0.9:\n",
    "                tag = num2label[str(int(idx[num]))]\n",
    "            else:\n",
    "                tag = \"trash\"\n",
    "            old_path = join(masks, dict_of_pics[id_])\n",
    "            new_path = join(folder_ret, tag, dict_of_pics[id_])\n",
    "            shutil.copyfile(old_path, new_path)"
   ]
  },
  {
   "cell_type": "code",
   "execution_count": null,
   "metadata": {},
   "outputs": [],
   "source": []
  },
  {
   "cell_type": "markdown",
   "metadata": {},
   "source": [
    "# TEST"
   ]
  },
  {
   "cell_type": "code",
   "execution_count": 14,
   "metadata": {},
   "outputs": [],
   "source": [
    "from torch.utils.data import DataLoader, WeightedRandomSampler\n",
    "import torch\n",
    "import json\n",
    "import pandas as pd\n",
    "import numpy as np"
   ]
  },
  {
   "cell_type": "code",
   "execution_count": 7,
   "metadata": {},
   "outputs": [],
   "source": [
    "with open('/home/timssh/ML/TAGGING/DATA/datasets/sex_positions.json', 'r') as json_file:\n",
    "    json_ = json.load(json_file)\n",
    "    num2label = json_[\"num2label\"]\n",
    "    weights = json_[\"weights\"]\n",
    "    data = json_['data']\n"
   ]
  },
  {
   "cell_type": "code",
   "execution_count": 8,
   "metadata": {},
   "outputs": [
    {
     "data": {
      "text/html": [
       "<div>\n",
       "<style scoped>\n",
       "    .dataframe tbody tr th:only-of-type {\n",
       "        vertical-align: middle;\n",
       "    }\n",
       "\n",
       "    .dataframe tbody tr th {\n",
       "        vertical-align: top;\n",
       "    }\n",
       "\n",
       "    .dataframe thead th {\n",
       "        text-align: right;\n",
       "    }\n",
       "</style>\n",
       "<table border=\"1\" class=\"dataframe\">\n",
       "  <thead>\n",
       "    <tr style=\"text-align: right;\">\n",
       "      <th></th>\n",
       "      <th>path</th>\n",
       "      <th>69</th>\n",
       "      <th>cowgirl</th>\n",
       "      <th>doggy style</th>\n",
       "      <th>missionary</th>\n",
       "      <th>reverse cowgirl</th>\n",
       "      <th>spooning</th>\n",
       "    </tr>\n",
       "  </thead>\n",
       "  <tbody>\n",
       "    <tr>\n",
       "      <th>0</th>\n",
       "      <td>c65e5cc8ce4b232c3b39411b09fc57f0.jpeg</td>\n",
       "      <td>1</td>\n",
       "      <td>0</td>\n",
       "      <td>0</td>\n",
       "      <td>0</td>\n",
       "      <td>0</td>\n",
       "      <td>0</td>\n",
       "    </tr>\n",
       "    <tr>\n",
       "      <th>1</th>\n",
       "      <td>80279792ae8f037bc51e1f2386487998.jpeg</td>\n",
       "      <td>1</td>\n",
       "      <td>0</td>\n",
       "      <td>0</td>\n",
       "      <td>0</td>\n",
       "      <td>0</td>\n",
       "      <td>0</td>\n",
       "    </tr>\n",
       "    <tr>\n",
       "      <th>2</th>\n",
       "      <td>29e94c8fc081153e6681c96a4df7a63f.jpeg</td>\n",
       "      <td>1</td>\n",
       "      <td>0</td>\n",
       "      <td>0</td>\n",
       "      <td>0</td>\n",
       "      <td>0</td>\n",
       "      <td>0</td>\n",
       "    </tr>\n",
       "    <tr>\n",
       "      <th>3</th>\n",
       "      <td>25e87340b207e071bbcfa3618599a00f.jpeg</td>\n",
       "      <td>1</td>\n",
       "      <td>0</td>\n",
       "      <td>0</td>\n",
       "      <td>0</td>\n",
       "      <td>0</td>\n",
       "      <td>0</td>\n",
       "    </tr>\n",
       "    <tr>\n",
       "      <th>4</th>\n",
       "      <td>8a4b2f38811cd3a606ed929b2a6ff0cb.jpeg</td>\n",
       "      <td>1</td>\n",
       "      <td>0</td>\n",
       "      <td>0</td>\n",
       "      <td>0</td>\n",
       "      <td>0</td>\n",
       "      <td>0</td>\n",
       "    </tr>\n",
       "    <tr>\n",
       "      <th>...</th>\n",
       "      <td>...</td>\n",
       "      <td>...</td>\n",
       "      <td>...</td>\n",
       "      <td>...</td>\n",
       "      <td>...</td>\n",
       "      <td>...</td>\n",
       "      <td>...</td>\n",
       "    </tr>\n",
       "    <tr>\n",
       "      <th>27776</th>\n",
       "      <td>e6efbc00845bca88ee25f84b11a70fcc.jpeg</td>\n",
       "      <td>0</td>\n",
       "      <td>0</td>\n",
       "      <td>0</td>\n",
       "      <td>0</td>\n",
       "      <td>0</td>\n",
       "      <td>1</td>\n",
       "    </tr>\n",
       "    <tr>\n",
       "      <th>27777</th>\n",
       "      <td>ee223f3f6c90a675b680e4b640d445d3.jpeg</td>\n",
       "      <td>0</td>\n",
       "      <td>0</td>\n",
       "      <td>0</td>\n",
       "      <td>0</td>\n",
       "      <td>0</td>\n",
       "      <td>1</td>\n",
       "    </tr>\n",
       "    <tr>\n",
       "      <th>27778</th>\n",
       "      <td>867ee36efa23c356732ad9745b51d150.jpeg</td>\n",
       "      <td>0</td>\n",
       "      <td>0</td>\n",
       "      <td>0</td>\n",
       "      <td>0</td>\n",
       "      <td>0</td>\n",
       "      <td>1</td>\n",
       "    </tr>\n",
       "    <tr>\n",
       "      <th>27779</th>\n",
       "      <td>9618b6f63230d42764f37f01d5cd13d1.jpeg</td>\n",
       "      <td>0</td>\n",
       "      <td>0</td>\n",
       "      <td>0</td>\n",
       "      <td>0</td>\n",
       "      <td>0</td>\n",
       "      <td>1</td>\n",
       "    </tr>\n",
       "    <tr>\n",
       "      <th>27780</th>\n",
       "      <td>a0abeed2e36707df7477c82016c2e26a.jpeg</td>\n",
       "      <td>0</td>\n",
       "      <td>0</td>\n",
       "      <td>0</td>\n",
       "      <td>0</td>\n",
       "      <td>0</td>\n",
       "      <td>1</td>\n",
       "    </tr>\n",
       "  </tbody>\n",
       "</table>\n",
       "<p>27781 rows × 7 columns</p>\n",
       "</div>"
      ],
      "text/plain": [
       "                                        path  69  cowgirl  doggy style  \\\n",
       "0      c65e5cc8ce4b232c3b39411b09fc57f0.jpeg   1        0            0   \n",
       "1      80279792ae8f037bc51e1f2386487998.jpeg   1        0            0   \n",
       "2      29e94c8fc081153e6681c96a4df7a63f.jpeg   1        0            0   \n",
       "3      25e87340b207e071bbcfa3618599a00f.jpeg   1        0            0   \n",
       "4      8a4b2f38811cd3a606ed929b2a6ff0cb.jpeg   1        0            0   \n",
       "...                                      ...  ..      ...          ...   \n",
       "27776  e6efbc00845bca88ee25f84b11a70fcc.jpeg   0        0            0   \n",
       "27777  ee223f3f6c90a675b680e4b640d445d3.jpeg   0        0            0   \n",
       "27778  867ee36efa23c356732ad9745b51d150.jpeg   0        0            0   \n",
       "27779  9618b6f63230d42764f37f01d5cd13d1.jpeg   0        0            0   \n",
       "27780  a0abeed2e36707df7477c82016c2e26a.jpeg   0        0            0   \n",
       "\n",
       "       missionary  reverse cowgirl  spooning  \n",
       "0               0                0         0  \n",
       "1               0                0         0  \n",
       "2               0                0         0  \n",
       "3               0                0         0  \n",
       "4               0                0         0  \n",
       "...           ...              ...       ...  \n",
       "27776           0                0         1  \n",
       "27777           0                0         1  \n",
       "27778           0                0         1  \n",
       "27779           0                0         1  \n",
       "27780           0                0         1  \n",
       "\n",
       "[27781 rows x 7 columns]"
      ]
     },
     "execution_count": 8,
     "metadata": {},
     "output_type": "execute_result"
    }
   ],
   "source": [
    "df = pd.read_json(json_[\"data\"])\n",
    "df"
   ]
  },
  {
   "cell_type": "code",
   "execution_count": 26,
   "metadata": {},
   "outputs": [
    {
     "name": "stdout",
     "output_type": "stream",
     "text": [
      "1799\n",
      "2172\n",
      "2917\n",
      "1831\n",
      "2183\n",
      "3395\n",
      "14297\n"
     ]
    }
   ],
   "source": [
    "cols = df.columns[1:]\n",
    "df_len = len(df)\n",
    "my_weights = torch.tensor([0.] * df_len)\n",
    "all_ = 0\n",
    "for col in cols:\n",
    "    ret = df[col][df[col]==1].sum()\n",
    "    print(ret)\n",
    "    indexes_of_cls = list(df[col][df[col]==1].index)\n",
    "    # for index in indexes_of_cls:\n",
    "    my_weights[indexes_of_cls] = 1 / len(indexes_of_cls)\n",
    "    all_ += ret\n",
    "my_weights[my_weights == 0] = 1 / (df_len - all_)\n",
    "print(all_)"
   ]
  },
  {
   "cell_type": "code",
   "execution_count": 28,
   "metadata": {},
   "outputs": [
    {
     "data": {
      "text/plain": [
       "tensor(7.0000)"
      ]
     },
     "execution_count": 28,
     "metadata": {},
     "output_type": "execute_result"
    }
   ],
   "source": [
    "my_weights.sum()"
   ]
  },
  {
   "cell_type": "code",
   "execution_count": 29,
   "metadata": {},
   "outputs": [
    {
     "data": {
      "text/plain": [
       "69  cowgirl  doggy style  missionary  reverse cowgirl  spooning\n",
       "0   0        0            0           0                0           13484\n",
       "                                                       1            3395\n",
       "             1            0           0                0            2917\n",
       "             0            0           1                0            2183\n",
       "    1        0            0           0                0            2172\n",
       "    0        0            1           0                0            1831\n",
       "1   0        0            0           0                0            1799\n",
       "dtype: int64"
      ]
     },
     "execution_count": 29,
     "metadata": {},
     "output_type": "execute_result"
    }
   ],
   "source": [
    "df[df.columns[1:]].value_counts()"
   ]
  },
  {
   "cell_type": "code",
   "execution_count": null,
   "metadata": {},
   "outputs": [],
   "source": []
  }
 ],
 "metadata": {
  "kernelspec": {
   "display_name": "tagging",
   "language": "python",
   "name": "python3"
  },
  "language_info": {
   "codemirror_mode": {
    "name": "ipython",
    "version": 3
   },
   "file_extension": ".py",
   "mimetype": "text/x-python",
   "name": "python",
   "nbconvert_exporter": "python",
   "pygments_lexer": "ipython3",
   "version": "3.10.11"
  },
  "orig_nbformat": 4
 },
 "nbformat": 4,
 "nbformat_minor": 2
}
