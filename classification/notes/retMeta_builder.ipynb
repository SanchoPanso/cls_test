{
 "cells": [
  {
   "cell_type": "code",
   "execution_count": 1,
   "metadata": {},
   "outputs": [],
   "source": [
    "import sys\n",
    "\n",
    "sys.path.append(\"../../classification\")\n",
    "\n",
    "from scripts.utils import parse_meta, save_meta\n",
    "from train.model import InferDataset\n",
    "from train.augmentation import PreProcess, DataAugmentation\n",
    "\n",
    "Aug = DataAugmentation().eval()\n",
    "Pre = PreProcess(gray=False, vflip=False, arch=\"eff\")"
   ]
  },
  {
   "cell_type": "code",
   "execution_count": null,
   "metadata": {},
   "outputs": [],
   "source": [
    "ROOT_DIR = \"/home/timssh/ML/TAGGING/DATA\"\n",
    "MODEL_DIR = f\"{ROOT_DIR}/models\"\n",
    "DATASETS = f\"{ROOT_DIR}/datasets\"\n",
    "META = f\"{ROOT_DIR}/meta\"\n",
    "PICTURE = f\"{ROOT_DIR}/picture\"\n",
    "\n",
    "\n",
    "CATEGORYS = [\n",
    "    # \"sex_positions\",\n",
    "    # \"tits_size\",\n",
    "    # \"hair_color\",\n",
    "    # \"hair_type\",\n",
    "    # \"body_type\",\n",
    "    # 'body_decoration_body_painting',\n",
    "    # 'body_decoration_piercing',\n",
    "    # 'body_decoration_tatto',\n",
    "    \"test\"\n",
    "]\n",
    "\n",
    "path_models = {\n",
    "    # \"body_type\": f'{MODEL_DIR}/body_type/version_0_train_eff_44_0.01/checkpoints/epoch=52-step=3604.pt',\n",
    "    # \"tits_size\": f'{MODEL_DIR}/tits_size/version_1_train_eff_36_0.01/checkpoints/epoch=65-step=71016.pt',\n",
    "    # \"sex_positions\": f'{MODEL_DIR}/sex_positions/version_0_train_eff_32_0.001/checkpoints/epoch=69-step=119560.pt',\n",
    "    # \"hair_color\": f'{MODEL_DIR}/hair_color/version_0_train_eff_32_0.001/checkpoints/epoch=121-step=170068.pt',\n",
    "    # \"hair_type\": f'{MODEL_DIR}/hair_type/version_0_train_eff_32_0.001/checkpoints/epoch=138-step=137332.pt',\n",
    "    # \"tits_size\": f'{MODEL_DIR}/tits_size/version_1_train_eff_36_0.01/checkpoints/epoch=65-step=71016.pt',\n",
    "    \"body_decoration_body_painting\": f\"{MODEL_DIR}/body_decoration_body_painting/version_0_train_eff_32_0.001/checkpoints/epoch=65-step=7854.pt\",\n",
    "    \"body_decoration_piercing\": f\"{MODEL_DIR}/body_decoration_piercing/version_0_train_eff_32_0.001/checkpoints/epoch=9-step=1790.pt\",\n",
    "    \"body_decoration_tatto\": f\"{MODEL_DIR}/body_decoration_tatto/version_0_train_eff_32_0.001/checkpoints/epoch=38-step=5031.pt\",\n",
    "}\n",
    "\n",
    "\n",
    "metas = parse_meta(\n",
    "    path_models, InferDataset, Aug, Pre, DATASETS, CATEGORYS, META, PICTURE\n",
    ")\n",
    "save_meta(metas)"
   ]
  }
 ],
 "metadata": {
  "kernelspec": {
   "display_name": "tagging",
   "language": "python",
   "name": "python3"
  },
  "language_info": {
   "codemirror_mode": {
    "name": "ipython",
    "version": 3
   },
   "file_extension": ".py",
   "mimetype": "text/x-python",
   "name": "python",
   "nbconvert_exporter": "python",
   "pygments_lexer": "ipython3",
   "version": "3.10.11"
  },
  "orig_nbformat": 4,
  "vscode": {
   "interpreter": {
    "hash": "9bb0251d380389dab4df3f393f08ab854945ede89ed8756719315a76fdf8cf9c"
   }
  }
 },
 "nbformat": 4,
 "nbformat_minor": 2
}
