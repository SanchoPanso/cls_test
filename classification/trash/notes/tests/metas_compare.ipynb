{
 "cells": [
  {
   "cell_type": "code",
   "execution_count": 11,
   "metadata": {},
   "outputs": [],
   "source": [
    "import sys\n",
    "sys.path.append(\"/home/timssh/ML/TAGGING/CLS/classification/scripts\")\n",
    "from utils import get_all_values, get_meta_id, calc_acc_by_category"
   ]
  },
  {
   "cell_type": "code",
   "execution_count": 14,
   "metadata": {},
   "outputs": [
    {
     "data": {
      "text/plain": [
       "defaultdict(<function utils.calc_acc_by_category.<locals>.<lambda>()>,\n",
       "            {'normal body': [62, 295],\n",
       "             'fat': [295, 295],\n",
       "             'curvy': [294, 295],\n",
       "             'skinny': [240, 295],\n",
       "             'bodybuilder': [294, 295],\n",
       "             'athletic': [295, 295],\n",
       "             'brown hair': [182, 295],\n",
       "             'blue hair': [294, 295],\n",
       "             'red hair': [288, 295],\n",
       "             'violet hair': [294, 295],\n",
       "             'green hair': [294, 295],\n",
       "             'blonde hair': [235, 295],\n",
       "             'black hair': [202, 295],\n",
       "             'pink hair': [294, 295],\n",
       "             'wavy hair': [244, 295],\n",
       "             'curly haired': [294, 295],\n",
       "             'straight hair': [78, 295],\n",
       "             'missionary': [295, 295],\n",
       "             'cowgirl': [295, 295],\n",
       "             'spooning': [295, 295],\n",
       "             'doggy style': [295, 295],\n",
       "             'reverse cowgirl': [295, 295],\n",
       "             '69': [295, 295],\n",
       "             'huge tits': [295, 295],\n",
       "             'small tits': [193, 295],\n",
       "             'flat chested': [275, 295],\n",
       "             'big tits': [190, 295]})"
      ]
     },
     "execution_count": 14,
     "metadata": {},
     "output_type": "execute_result"
    }
   ],
   "source": [
    "all_values = get_all_values()\n",
    "\n",
    "meta1 = get_meta_id('/home/timssh/ML/TAGGING/VALID/girl-masturbating-porn-295')\n",
    "meta2 = get_meta_id('/home/timssh/ML/TAGGING/data/sex_positions/poses-trash/girl-masturbating-porn', 'ret_')\n",
    "\n",
    "calc_acc_by_category(meta1, meta2, all_values)"
   ]
  },
  {
   "cell_type": "code",
   "execution_count": null,
   "metadata": {},
   "outputs": [],
   "source": []
  }
 ],
 "metadata": {
  "kernelspec": {
   "display_name": "tagging",
   "language": "python",
   "name": "python3"
  },
  "language_info": {
   "codemirror_mode": {
    "name": "ipython",
    "version": 3
   },
   "file_extension": ".py",
   "mimetype": "text/x-python",
   "name": "python",
   "nbconvert_exporter": "python",
   "pygments_lexer": "ipython3",
   "version": "3.10.8"
  },
  "orig_nbformat": 4
 },
 "nbformat": 4,
 "nbformat_minor": 2
}
